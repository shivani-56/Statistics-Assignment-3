{
 "cells": [
  {
   "cell_type": "markdown",
   "id": "f1551cf0",
   "metadata": {},
   "source": [
    "# Problem Statement 1:\n",
    "Blood glucose levels for obese patients have a mean of 100 with a standard deviation of\n",
    "15. A researcher thinks that a diet high in raw cornstarch will have a positive effect on\n",
    "blood glucose levels. A sample of 36 patients who have tried the raw cornstarch diet\n",
    "have a mean glucose level of 108. Test the hypothesis that the raw cornstarch had an\n",
    "effect or not."
   ]
  },
  {
   "cell_type": "markdown",
   "id": "f9ee4b4f",
   "metadata": {},
   "source": [
    "import math Sample_count = 36 Sample_Mean = 108 Population_Mean = 100 Population_sigma = 15 #(Standard deviation)"
   ]
  },
  {
   "cell_type": "markdown",
   "id": "4be6b0c9",
   "metadata": {},
   "source": [
    "The population mean is 100 so we have define our hypotheses based on that."
   ]
  },
  {
   "cell_type": "markdown",
   "id": "1ce74641",
   "metadata": {},
   "source": [
    "#Null Hypothesis is H0:Mean=100 #Alternative Hypothesis is H1:≠100 #There is no information provided about the significance level or confidence interval, so lets assume it to be 0.05 or 95% #which is commonly used.\n",
    "\n",
    "#Lets calculate Z score z=(Sample_Mean - Population_Mean)/(Population_sigma/math.sqrt(Sample_count)) print('The z score is' ,z) print('By looking this value up in z table, we get a value of 0.9993') print('Which implies the probability of having value less than 108 is 99.93% and more than or equals to 108 is 0.007') print('It is less than 0.05 so we will reject the Null hypothesis i.e. there is raw cornstarch effect')"
   ]
  },
  {
   "cell_type": "markdown",
   "id": "869b8661",
   "metadata": {},
   "source": [
    "# 2. In one state, 52% of the voters are Republicans, and 48% are Democrats. In a second\n",
    "state, 47% of the voters are Republicans, and 53% are Democrats. Suppose a simple\n",
    "random sample of 100 voters are surveyed from each state.\n",
    "What is the probability that the survey will show a greater percentage of Republican\n",
    "voters in the second state than in the first state?"
   ]
  },
  {
   "cell_type": "markdown",
   "id": "2d2c1722",
   "metadata": {},
   "source": [
    "#let :- #P1 = Proportion of Republican voters in the first state #P2 = Proportion of Republican voters in the second state #P_1 = Proportion of Republican voters in the sample from the first state #P_2 = Proportion of Republican voters in the sample from the second state.\n",
    "\n",
    "#N1 = The number of voters sampled from the first state N1 = 100 #N2=The number of voters sampled from the second state N2 = 100\n",
    "\n",
    "P1 = 0.52 #Q1=(1 - P1), the proportion on non republican voters in first state Q1 = 0.48 P2 = 0.47 #Q2=(1 - P2), the proportion on non republican voters in second state Q2 = 0.53\n",
    "\n",
    "#The mean of the difference in sample proportions or the expected value E[P_1-P_2] mu =P1 - P2\n",
    "\n",
    "#The standard deviation of the difference (Std) std = math.sqrt(((P1 * Q1 ) / N1) + ((P2 * Q2) /N2)) print(\"Mu : \",mu,\"Std : \",std)\n",
    "\n",
    "#This problem requires us to find the probability that P_1 is less than P_2 #This is equivalent to finding the probability that P_1 - P_2 < 0 x = 0 #To find this probability, we need to transform the random variable (P_1 - P_2) into a z-score. #Z= Z_score(P_1,P_2) #That transformation appears below. Z = (x - mu)/std\n",
    "\n",
    "print(\"Z_score(P_1,P_2):\",Z)\n",
    "\n",
    "#From Z table we find that the probability of a z-score being -0.7082 or less is 0.24.\n",
    "\n",
    "print('The probability that the survey will show a greater percentage of Republican voters in the second state than in the first state is 0.24.')"
   ]
  },
  {
   "cell_type": "markdown",
   "id": "0b693cae",
   "metadata": {},
   "source": [
    "# 3. You take the SAT and score 1100. The mean score for the SAT is 1026 and the standard deviation is 209.\n",
    "How well did you score on the test compared to the average test taker?"
   ]
  },
  {
   "cell_type": "markdown",
   "id": "934f571b",
   "metadata": {},
   "source": [
    "#The z score tells you how many standard deviations from the mean your score is #My score =x x = 1100 #Population Mean =mu mu = 1026 #population standard deviation =sd sd = 209 z = ( x - mu)/sd print(\"Z Score : \",z) print('The above calculation shows that my score is 0.35 standard deviations above the mean')"
   ]
  },
  {
   "cell_type": "code",
   "execution_count": null,
   "id": "e12b3abc",
   "metadata": {},
   "outputs": [],
   "source": []
  }
 ],
 "metadata": {
  "kernelspec": {
   "display_name": "Python 3",
   "language": "python",
   "name": "python3"
  },
  "language_info": {
   "codemirror_mode": {
    "name": "ipython",
    "version": 3
   },
   "file_extension": ".py",
   "mimetype": "text/x-python",
   "name": "python",
   "nbconvert_exporter": "python",
   "pygments_lexer": "ipython3",
   "version": "3.8.8"
  }
 },
 "nbformat": 4,
 "nbformat_minor": 5
}
